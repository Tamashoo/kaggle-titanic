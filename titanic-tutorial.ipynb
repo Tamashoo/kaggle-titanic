{
 "cells": [
  {
   "cell_type": "code",
   "execution_count": 1,
   "id": "d45a6b77",
   "metadata": {
    "execution": {
     "iopub.execute_input": "2023-05-09T14:02:45.982959Z",
     "iopub.status.busy": "2023-05-09T14:02:45.982070Z",
     "iopub.status.idle": "2023-05-09T14:02:45.993473Z",
     "shell.execute_reply": "2023-05-09T14:02:45.992736Z"
    },
    "papermill": {
     "duration": 0.018466,
     "end_time": "2023-05-09T14:02:45.995659",
     "exception": false,
     "start_time": "2023-05-09T14:02:45.977193",
     "status": "completed"
    },
    "tags": []
   },
   "outputs": [],
   "source": [
    "import numpy as np\n",
    "import pandas as pd"
   ]
  },
  {
   "cell_type": "code",
   "execution_count": 2,
   "id": "6d795380",
   "metadata": {
    "execution": {
     "iopub.execute_input": "2023-05-09T14:02:46.003247Z",
     "iopub.status.busy": "2023-05-09T14:02:46.002458Z",
     "iopub.status.idle": "2023-05-09T14:02:46.035864Z",
     "shell.execute_reply": "2023-05-09T14:02:46.034773Z"
    },
    "papermill": {
     "duration": 0.04012,
     "end_time": "2023-05-09T14:02:46.038578",
     "exception": false,
     "start_time": "2023-05-09T14:02:45.998458",
     "status": "completed"
    },
    "tags": []
   },
   "outputs": [],
   "source": [
    "#train_df = pd.read_csv('input/train.csv')\n",
    "train_df = pd.read_csv('/kaggle/input/titanic/train.csv')\n",
    "#test_df = pd.read_csv('input/test.csv')\n",
    "test_df = pd.read_csv('/kaggle/input/titanic/test.csv')\n"
   ]
  },
  {
   "cell_type": "code",
   "execution_count": 3,
   "id": "1cd40f3f",
   "metadata": {
    "execution": {
     "iopub.execute_input": "2023-05-09T14:02:46.046420Z",
     "iopub.status.busy": "2023-05-09T14:02:46.045393Z",
     "iopub.status.idle": "2023-05-09T14:02:46.064156Z",
     "shell.execute_reply": "2023-05-09T14:02:46.062999Z"
    },
    "papermill": {
     "duration": 0.025536,
     "end_time": "2023-05-09T14:02:46.066873",
     "exception": false,
     "start_time": "2023-05-09T14:02:46.041337",
     "status": "completed"
    },
    "tags": []
   },
   "outputs": [],
   "source": [
    "features = [\n",
    "    f for f in train_df.columns if f not in ['PassengerId', 'Survived']\n",
    "]\n",
    "x_train = train_df[features]\n",
    "y_train = train_df['Survived']\n",
    "x_test = test_df[features]"
   ]
  },
  {
   "cell_type": "code",
   "execution_count": 4,
   "id": "357a1c00",
   "metadata": {
    "execution": {
     "iopub.execute_input": "2023-05-09T14:02:46.073825Z",
     "iopub.status.busy": "2023-05-09T14:02:46.073449Z",
     "iopub.status.idle": "2023-05-09T14:02:47.122499Z",
     "shell.execute_reply": "2023-05-09T14:02:47.120386Z"
    },
    "papermill": {
     "duration": 1.057617,
     "end_time": "2023-05-09T14:02:47.127187",
     "exception": false,
     "start_time": "2023-05-09T14:02:46.069570",
     "status": "completed"
    },
    "tags": []
   },
   "outputs": [
    {
     "name": "stderr",
     "output_type": "stream",
     "text": [
      "/opt/conda/lib/python3.10/site-packages/scipy/__init__.py:146: UserWarning: A NumPy version >=1.16.5 and <1.23.0 is required for this version of SciPy (detected version 1.23.5\n",
      "  warnings.warn(f\"A NumPy version >={np_minversion} and <{np_maxversion}\"\n",
      "/tmp/ipykernel_20/3847219197.py:6: SettingWithCopyWarning: \n",
      "A value is trying to be set on a copy of a slice from a DataFrame.\n",
      "Try using .loc[row_indexer,col_indexer] = value instead\n",
      "\n",
      "See the caveats in the documentation: https://pandas.pydata.org/pandas-docs/stable/user_guide/indexing.html#returning-a-view-versus-a-copy\n",
      "  x_train.loc[:,col] = lbl.transform(x_train[col].astype(str))\n",
      "/tmp/ipykernel_20/3847219197.py:7: SettingWithCopyWarning: \n",
      "A value is trying to be set on a copy of a slice from a DataFrame.\n",
      "Try using .loc[row_indexer,col_indexer] = value instead\n",
      "\n",
      "See the caveats in the documentation: https://pandas.pydata.org/pandas-docs/stable/user_guide/indexing.html#returning-a-view-versus-a-copy\n",
      "  x_test.loc[:,col] = lbl.transform(x_test[col].astype(str))\n",
      "/tmp/ipykernel_20/3847219197.py:6: SettingWithCopyWarning: \n",
      "A value is trying to be set on a copy of a slice from a DataFrame.\n",
      "Try using .loc[row_indexer,col_indexer] = value instead\n",
      "\n",
      "See the caveats in the documentation: https://pandas.pydata.org/pandas-docs/stable/user_guide/indexing.html#returning-a-view-versus-a-copy\n",
      "  x_train.loc[:,col] = lbl.transform(x_train[col].astype(str))\n",
      "/tmp/ipykernel_20/3847219197.py:6: DeprecationWarning: In a future version, `df.iloc[:, i] = newvals` will attempt to set the values inplace instead of always setting a new array. To retain the old behavior, use either `df[df.columns[i]] = newvals` or, if columns are non-unique, `df.isetitem(i, newvals)`\n",
      "  x_train.loc[:,col] = lbl.transform(x_train[col].astype(str))\n",
      "/tmp/ipykernel_20/3847219197.py:7: SettingWithCopyWarning: \n",
      "A value is trying to be set on a copy of a slice from a DataFrame.\n",
      "Try using .loc[row_indexer,col_indexer] = value instead\n",
      "\n",
      "See the caveats in the documentation: https://pandas.pydata.org/pandas-docs/stable/user_guide/indexing.html#returning-a-view-versus-a-copy\n",
      "  x_test.loc[:,col] = lbl.transform(x_test[col].astype(str))\n",
      "/tmp/ipykernel_20/3847219197.py:7: DeprecationWarning: In a future version, `df.iloc[:, i] = newvals` will attempt to set the values inplace instead of always setting a new array. To retain the old behavior, use either `df[df.columns[i]] = newvals` or, if columns are non-unique, `df.isetitem(i, newvals)`\n",
      "  x_test.loc[:,col] = lbl.transform(x_test[col].astype(str))\n",
      "/tmp/ipykernel_20/3847219197.py:6: SettingWithCopyWarning: \n",
      "A value is trying to be set on a copy of a slice from a DataFrame.\n",
      "Try using .loc[row_indexer,col_indexer] = value instead\n",
      "\n",
      "See the caveats in the documentation: https://pandas.pydata.org/pandas-docs/stable/user_guide/indexing.html#returning-a-view-versus-a-copy\n",
      "  x_train.loc[:,col] = lbl.transform(x_train[col].astype(str))\n",
      "/tmp/ipykernel_20/3847219197.py:6: DeprecationWarning: In a future version, `df.iloc[:, i] = newvals` will attempt to set the values inplace instead of always setting a new array. To retain the old behavior, use either `df[df.columns[i]] = newvals` or, if columns are non-unique, `df.isetitem(i, newvals)`\n",
      "  x_train.loc[:,col] = lbl.transform(x_train[col].astype(str))\n",
      "/tmp/ipykernel_20/3847219197.py:7: SettingWithCopyWarning: \n",
      "A value is trying to be set on a copy of a slice from a DataFrame.\n",
      "Try using .loc[row_indexer,col_indexer] = value instead\n",
      "\n",
      "See the caveats in the documentation: https://pandas.pydata.org/pandas-docs/stable/user_guide/indexing.html#returning-a-view-versus-a-copy\n",
      "  x_test.loc[:,col] = lbl.transform(x_test[col].astype(str))\n",
      "/tmp/ipykernel_20/3847219197.py:7: DeprecationWarning: In a future version, `df.iloc[:, i] = newvals` will attempt to set the values inplace instead of always setting a new array. To retain the old behavior, use either `df[df.columns[i]] = newvals` or, if columns are non-unique, `df.isetitem(i, newvals)`\n",
      "  x_test.loc[:,col] = lbl.transform(x_test[col].astype(str))\n",
      "/tmp/ipykernel_20/3847219197.py:6: SettingWithCopyWarning: \n",
      "A value is trying to be set on a copy of a slice from a DataFrame.\n",
      "Try using .loc[row_indexer,col_indexer] = value instead\n",
      "\n",
      "See the caveats in the documentation: https://pandas.pydata.org/pandas-docs/stable/user_guide/indexing.html#returning-a-view-versus-a-copy\n",
      "  x_train.loc[:,col] = lbl.transform(x_train[col].astype(str))\n",
      "/tmp/ipykernel_20/3847219197.py:6: DeprecationWarning: In a future version, `df.iloc[:, i] = newvals` will attempt to set the values inplace instead of always setting a new array. To retain the old behavior, use either `df[df.columns[i]] = newvals` or, if columns are non-unique, `df.isetitem(i, newvals)`\n",
      "  x_train.loc[:,col] = lbl.transform(x_train[col].astype(str))\n",
      "/tmp/ipykernel_20/3847219197.py:7: SettingWithCopyWarning: \n",
      "A value is trying to be set on a copy of a slice from a DataFrame.\n",
      "Try using .loc[row_indexer,col_indexer] = value instead\n",
      "\n",
      "See the caveats in the documentation: https://pandas.pydata.org/pandas-docs/stable/user_guide/indexing.html#returning-a-view-versus-a-copy\n",
      "  x_test.loc[:,col] = lbl.transform(x_test[col].astype(str))\n",
      "/tmp/ipykernel_20/3847219197.py:7: DeprecationWarning: In a future version, `df.iloc[:, i] = newvals` will attempt to set the values inplace instead of always setting a new array. To retain the old behavior, use either `df[df.columns[i]] = newvals` or, if columns are non-unique, `df.isetitem(i, newvals)`\n",
      "  x_test.loc[:,col] = lbl.transform(x_test[col].astype(str))\n",
      "/tmp/ipykernel_20/3847219197.py:6: SettingWithCopyWarning: \n",
      "A value is trying to be set on a copy of a slice from a DataFrame.\n",
      "Try using .loc[row_indexer,col_indexer] = value instead\n",
      "\n",
      "See the caveats in the documentation: https://pandas.pydata.org/pandas-docs/stable/user_guide/indexing.html#returning-a-view-versus-a-copy\n",
      "  x_train.loc[:,col] = lbl.transform(x_train[col].astype(str))\n",
      "/tmp/ipykernel_20/3847219197.py:7: SettingWithCopyWarning: \n",
      "A value is trying to be set on a copy of a slice from a DataFrame.\n",
      "Try using .loc[row_indexer,col_indexer] = value instead\n",
      "\n",
      "See the caveats in the documentation: https://pandas.pydata.org/pandas-docs/stable/user_guide/indexing.html#returning-a-view-versus-a-copy\n",
      "  x_test.loc[:,col] = lbl.transform(x_test[col].astype(str))\n",
      "/tmp/ipykernel_20/3847219197.py:6: SettingWithCopyWarning: \n",
      "A value is trying to be set on a copy of a slice from a DataFrame.\n",
      "Try using .loc[row_indexer,col_indexer] = value instead\n",
      "\n",
      "See the caveats in the documentation: https://pandas.pydata.org/pandas-docs/stable/user_guide/indexing.html#returning-a-view-versus-a-copy\n",
      "  x_train.loc[:,col] = lbl.transform(x_train[col].astype(str))\n",
      "/tmp/ipykernel_20/3847219197.py:7: SettingWithCopyWarning: \n",
      "A value is trying to be set on a copy of a slice from a DataFrame.\n",
      "Try using .loc[row_indexer,col_indexer] = value instead\n",
      "\n",
      "See the caveats in the documentation: https://pandas.pydata.org/pandas-docs/stable/user_guide/indexing.html#returning-a-view-versus-a-copy\n",
      "  x_test.loc[:,col] = lbl.transform(x_test[col].astype(str))\n",
      "/tmp/ipykernel_20/3847219197.py:6: SettingWithCopyWarning: \n",
      "A value is trying to be set on a copy of a slice from a DataFrame.\n",
      "Try using .loc[row_indexer,col_indexer] = value instead\n",
      "\n",
      "See the caveats in the documentation: https://pandas.pydata.org/pandas-docs/stable/user_guide/indexing.html#returning-a-view-versus-a-copy\n",
      "  x_train.loc[:,col] = lbl.transform(x_train[col].astype(str))\n",
      "/tmp/ipykernel_20/3847219197.py:6: DeprecationWarning: In a future version, `df.iloc[:, i] = newvals` will attempt to set the values inplace instead of always setting a new array. To retain the old behavior, use either `df[df.columns[i]] = newvals` or, if columns are non-unique, `df.isetitem(i, newvals)`\n",
      "  x_train.loc[:,col] = lbl.transform(x_train[col].astype(str))\n",
      "/tmp/ipykernel_20/3847219197.py:7: SettingWithCopyWarning: \n",
      "A value is trying to be set on a copy of a slice from a DataFrame.\n",
      "Try using .loc[row_indexer,col_indexer] = value instead\n",
      "\n",
      "See the caveats in the documentation: https://pandas.pydata.org/pandas-docs/stable/user_guide/indexing.html#returning-a-view-versus-a-copy\n",
      "  x_test.loc[:,col] = lbl.transform(x_test[col].astype(str))\n",
      "/tmp/ipykernel_20/3847219197.py:7: DeprecationWarning: In a future version, `df.iloc[:, i] = newvals` will attempt to set the values inplace instead of always setting a new array. To retain the old behavior, use either `df[df.columns[i]] = newvals` or, if columns are non-unique, `df.isetitem(i, newvals)`\n",
      "  x_test.loc[:,col] = lbl.transform(x_test[col].astype(str))\n",
      "/tmp/ipykernel_20/3847219197.py:6: SettingWithCopyWarning: \n",
      "A value is trying to be set on a copy of a slice from a DataFrame.\n",
      "Try using .loc[row_indexer,col_indexer] = value instead\n",
      "\n",
      "See the caveats in the documentation: https://pandas.pydata.org/pandas-docs/stable/user_guide/indexing.html#returning-a-view-versus-a-copy\n",
      "  x_train.loc[:,col] = lbl.transform(x_train[col].astype(str))\n",
      "/tmp/ipykernel_20/3847219197.py:6: DeprecationWarning: In a future version, `df.iloc[:, i] = newvals` will attempt to set the values inplace instead of always setting a new array. To retain the old behavior, use either `df[df.columns[i]] = newvals` or, if columns are non-unique, `df.isetitem(i, newvals)`\n",
      "  x_train.loc[:,col] = lbl.transform(x_train[col].astype(str))\n",
      "/tmp/ipykernel_20/3847219197.py:7: SettingWithCopyWarning: \n",
      "A value is trying to be set on a copy of a slice from a DataFrame.\n",
      "Try using .loc[row_indexer,col_indexer] = value instead\n",
      "\n",
      "See the caveats in the documentation: https://pandas.pydata.org/pandas-docs/stable/user_guide/indexing.html#returning-a-view-versus-a-copy\n",
      "  x_test.loc[:,col] = lbl.transform(x_test[col].astype(str))\n",
      "/tmp/ipykernel_20/3847219197.py:7: DeprecationWarning: In a future version, `df.iloc[:, i] = newvals` will attempt to set the values inplace instead of always setting a new array. To retain the old behavior, use either `df[df.columns[i]] = newvals` or, if columns are non-unique, `df.isetitem(i, newvals)`\n",
      "  x_test.loc[:,col] = lbl.transform(x_test[col].astype(str))\n",
      "/tmp/ipykernel_20/3847219197.py:6: SettingWithCopyWarning: \n",
      "A value is trying to be set on a copy of a slice from a DataFrame.\n",
      "Try using .loc[row_indexer,col_indexer] = value instead\n",
      "\n",
      "See the caveats in the documentation: https://pandas.pydata.org/pandas-docs/stable/user_guide/indexing.html#returning-a-view-versus-a-copy\n",
      "  x_train.loc[:,col] = lbl.transform(x_train[col].astype(str))\n",
      "/tmp/ipykernel_20/3847219197.py:6: DeprecationWarning: In a future version, `df.iloc[:, i] = newvals` will attempt to set the values inplace instead of always setting a new array. To retain the old behavior, use either `df[df.columns[i]] = newvals` or, if columns are non-unique, `df.isetitem(i, newvals)`\n",
      "  x_train.loc[:,col] = lbl.transform(x_train[col].astype(str))\n",
      "/tmp/ipykernel_20/3847219197.py:7: SettingWithCopyWarning: \n",
      "A value is trying to be set on a copy of a slice from a DataFrame.\n",
      "Try using .loc[row_indexer,col_indexer] = value instead\n",
      "\n",
      "See the caveats in the documentation: https://pandas.pydata.org/pandas-docs/stable/user_guide/indexing.html#returning-a-view-versus-a-copy\n",
      "  x_test.loc[:,col] = lbl.transform(x_test[col].astype(str))\n",
      "/tmp/ipykernel_20/3847219197.py:7: DeprecationWarning: In a future version, `df.iloc[:, i] = newvals` will attempt to set the values inplace instead of always setting a new array. To retain the old behavior, use either `df[df.columns[i]] = newvals` or, if columns are non-unique, `df.isetitem(i, newvals)`\n",
      "  x_test.loc[:,col] = lbl.transform(x_test[col].astype(str))\n",
      "/tmp/ipykernel_20/3847219197.py:6: SettingWithCopyWarning: \n",
      "A value is trying to be set on a copy of a slice from a DataFrame.\n",
      "Try using .loc[row_indexer,col_indexer] = value instead\n",
      "\n",
      "See the caveats in the documentation: https://pandas.pydata.org/pandas-docs/stable/user_guide/indexing.html#returning-a-view-versus-a-copy\n",
      "  x_train.loc[:,col] = lbl.transform(x_train[col].astype(str))\n",
      "/tmp/ipykernel_20/3847219197.py:6: DeprecationWarning: In a future version, `df.iloc[:, i] = newvals` will attempt to set the values inplace instead of always setting a new array. To retain the old behavior, use either `df[df.columns[i]] = newvals` or, if columns are non-unique, `df.isetitem(i, newvals)`\n",
      "  x_train.loc[:,col] = lbl.transform(x_train[col].astype(str))\n",
      "/tmp/ipykernel_20/3847219197.py:7: SettingWithCopyWarning: \n",
      "A value is trying to be set on a copy of a slice from a DataFrame.\n",
      "Try using .loc[row_indexer,col_indexer] = value instead\n",
      "\n",
      "See the caveats in the documentation: https://pandas.pydata.org/pandas-docs/stable/user_guide/indexing.html#returning-a-view-versus-a-copy\n",
      "  x_test.loc[:,col] = lbl.transform(x_test[col].astype(str))\n",
      "/tmp/ipykernel_20/3847219197.py:7: DeprecationWarning: In a future version, `df.iloc[:, i] = newvals` will attempt to set the values inplace instead of always setting a new array. To retain the old behavior, use either `df[df.columns[i]] = newvals` or, if columns are non-unique, `df.isetitem(i, newvals)`\n",
      "  x_test.loc[:,col] = lbl.transform(x_test[col].astype(str))\n"
     ]
    }
   ],
   "source": [
    "from sklearn import preprocessing\n",
    "df = pd.concat([x_train, x_test])\n",
    "for col in features:\n",
    "    lbl = preprocessing.LabelEncoder()\n",
    "    lbl.fit(df[col].astype(str))\n",
    "    x_train.loc[:,col] = lbl.transform(x_train[col].astype(str))\n",
    "    x_test.loc[:,col] = lbl.transform(x_test[col].astype(str))"
   ]
  },
  {
   "cell_type": "code",
   "execution_count": 5,
   "id": "56861eca",
   "metadata": {
    "execution": {
     "iopub.execute_input": "2023-05-09T14:02:47.135562Z",
     "iopub.status.busy": "2023-05-09T14:02:47.134438Z",
     "iopub.status.idle": "2023-05-09T14:02:47.578692Z",
     "shell.execute_reply": "2023-05-09T14:02:47.577843Z"
    },
    "papermill": {
     "duration": 0.451112,
     "end_time": "2023-05-09T14:02:47.581368",
     "exception": false,
     "start_time": "2023-05-09T14:02:47.130256",
     "status": "completed"
    },
    "tags": []
   },
   "outputs": [],
   "source": [
    "from sklearn import ensemble\n",
    "\n",
    "model = ensemble.RandomForestClassifier(n_jobs=-1)\n"
   ]
  },
  {
   "cell_type": "code",
   "execution_count": 6,
   "id": "a92b6493",
   "metadata": {
    "execution": {
     "iopub.execute_input": "2023-05-09T14:02:47.589128Z",
     "iopub.status.busy": "2023-05-09T14:02:47.588750Z",
     "iopub.status.idle": "2023-05-09T14:02:47.900294Z",
     "shell.execute_reply": "2023-05-09T14:02:47.899323Z"
    },
    "papermill": {
     "duration": 0.318513,
     "end_time": "2023-05-09T14:02:47.903014",
     "exception": false,
     "start_time": "2023-05-09T14:02:47.584501",
     "status": "completed"
    },
    "tags": []
   },
   "outputs": [],
   "source": [
    "model.fit(x_train, y_train)\n",
    "y_pred = model.predict_proba(x_test)[:, 1]\n",
    "y_pred_proba = (y_pred >= 0.5).astype(int)"
   ]
  },
  {
   "cell_type": "code",
   "execution_count": 7,
   "id": "e733c526",
   "metadata": {
    "execution": {
     "iopub.execute_input": "2023-05-09T14:02:47.911010Z",
     "iopub.status.busy": "2023-05-09T14:02:47.910077Z",
     "iopub.status.idle": "2023-05-09T14:02:47.923366Z",
     "shell.execute_reply": "2023-05-09T14:02:47.922374Z"
    },
    "papermill": {
     "duration": 0.0193,
     "end_time": "2023-05-09T14:02:47.925425",
     "exception": false,
     "start_time": "2023-05-09T14:02:47.906125",
     "status": "completed"
    },
    "tags": []
   },
   "outputs": [
    {
     "name": "stdout",
     "output_type": "stream",
     "text": [
      "Your submission was successfully saved!\n"
     ]
    }
   ],
   "source": [
    "output = pd.DataFrame({'PassengerId': test_df.PassengerId, 'Survived': y_pred_proba})\n",
    "output.to_csv('submission2.csv', index=False)\n",
    "print(\"Your submission was successfully saved!\")"
   ]
  }
 ],
 "metadata": {
  "kernelspec": {
   "display_name": "Python 3",
   "language": "python",
   "name": "python3"
  },
  "language_info": {
   "codemirror_mode": {
    "name": "ipython",
    "version": 3
   },
   "file_extension": ".py",
   "mimetype": "text/x-python",
   "name": "python",
   "nbconvert_exporter": "python",
   "pygments_lexer": "ipython3",
   "version": "3.10.10"
  },
  "papermill": {
   "default_parameters": {},
   "duration": 12.701898,
   "end_time": "2023-05-09T14:02:48.850025",
   "environment_variables": {},
   "exception": null,
   "input_path": "__notebook__.ipynb",
   "output_path": "__notebook__.ipynb",
   "parameters": {},
   "start_time": "2023-05-09T14:02:36.148127",
   "version": "2.4.0"
  }
 },
 "nbformat": 4,
 "nbformat_minor": 5
}
